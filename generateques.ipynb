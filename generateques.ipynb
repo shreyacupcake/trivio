{
 "cells": [
  {
   "cell_type": "code",
   "execution_count": 1,
   "metadata": {},
   "outputs": [
    {
     "name": "stderr",
     "output_type": "stream",
     "text": [
      "C:\\Users\\DELL\\AppData\\Local\\Packages\\PythonSoftwareFoundation.Python.3.10_qbz5n2kfra8p0\\LocalCache\\local-packages\\Python310\\site-packages\\tqdm\\auto.py:21: TqdmWarning: IProgress not found. Please update jupyter and ipywidgets. See https://ipywidgets.readthedocs.io/en/stable/user_install.html\n",
      "  from .autonotebook import tqdm as notebook_tqdm\n"
     ]
    }
   ],
   "source": [
    "from youtube_transcript_api import YouTubeTranscriptApi\n",
    "import random\n",
    "from dotenv import load_dotenv\n",
    "import google.generativeai as genai\n",
    "from google.generativeai import GenerationConfig\n",
    "import json\n",
    "import os\n",
    "import time\n",
    "\n",
    "# created a schema/format to give to the llm ki aise format ki json me data return kar\n",
    "import typing_extensions as typing"
   ]
  },
  {
   "cell_type": "code",
   "execution_count": 2,
   "metadata": {},
   "outputs": [],
   "source": [
    "def pre_processing(video_id):\n",
    "    t=YouTubeTranscriptApi.get_transcript(video_id)\n",
    "\n",
    "    timestamps_prefix_sum = []\n",
    "    running_total  = 0\n",
    "    for segment in t:\n",
    "        sentence = segment[\"text\"]\n",
    "        curr_words = segment[\"text\"].split()\n",
    "        running_total += len(curr_words)\n",
    "        # potential problem here.. the 2nd value of this tuple is sometimes exceeding the length of the vid (in seconds).\n",
    "        # timestamps_prefix_sum.append((running_total, segment[\"start\"] + segment[\"duration\"], sentence))\n",
    "\n",
    "        # best solution according to me: use segment[\"start\"] instead of segment[\"start\"] + segment[\"duration\"]\n",
    "        timestamps_prefix_sum.append((running_total, segment[\"start\"], sentence))\n",
    "\n",
    "    total_words = timestamps_prefix_sum[-1][0]\n",
    "    return timestamps_prefix_sum, total_words\n",
    "\n",
    "pre_processing(\"7mLWqY7lzSM\")\n",
    "def mod_binary_search(target, timestamps_prefix_sum):\n",
    "    left = 0\n",
    "    right = len(timestamps_prefix_sum) - 1\n",
    "    while left < right:\n",
    "        mid = (left + right) // 2\n",
    "        if timestamps_prefix_sum[mid][0] < target:\n",
    "            left = mid + 1\n",
    "        else:\n",
    "            right = mid\n",
    "    return left \n",
    "\n",
    "\n",
    "def split_text_into_chunks(video_id):\n",
    "    num_questions = random.randint(8, 10) # you can change the number of questions you want to generate\n",
    "    print(f\"Generating {num_questions} questions from the transcript...\")\n",
    "    prefix_sum, total_words = pre_processing(video_id)\n",
    "    max_words = total_words // num_questions\n",
    "    parsed = 0\n",
    "    chunks = []\n",
    "    while (parsed < total_words):\n",
    "        if (parsed + 2 * max_words > total_words):\n",
    "            parsed = total_words\n",
    "        else:\n",
    "            parsed = parsed + max_words\n",
    "        target_index = mod_binary_search(parsed, prefix_sum)\n",
    "        timestamp = prefix_sum[target_index][1]\n",
    "        chunk = ' '.join(sentence for _, _, sentence in prefix_sum[:target_index])\n",
    "        chunks.append((chunk, timestamp))\n",
    "        prefix_sum = prefix_sum[target_index:]\n",
    "    return chunks"
   ]
  },
  {
   "cell_type": "code",
   "execution_count": 3,
   "metadata": {},
   "outputs": [],
   "source": [
    "class QA_data(typing.TypedDict):\n",
    "    question: str\n",
    "    answers: list[str]\n",
    "    correct_answer: str\n",
    "\n",
    "\n",
    "# Load environment variables, particularly GEMINI_KEY\n",
    "load_dotenv()\n",
    "\n",
    "# Configure Gemini API\n",
    "genai.configure(api_key=os.getenv(\"GEMINI_KEY\"))\n",
    "config = GenerationConfig(temperature=0.9, response_mime_type=\"application/json\", response_schema=QA_data)"
   ]
  },
  {
   "cell_type": "code",
   "execution_count": 4,
   "metadata": {},
   "outputs": [],
   "source": [
    "def generate_questions_and_options(chunk):\n",
    "    try:\n",
    "        prompt = f'''Generate a question from the following text chunk:\\n\\n{chunk}\\n\\nProvide 4 options, with only 1 correct option.\n",
    "                    Format the output in a dictionary like such'''\n",
    "        \n",
    "        # Call the Gemini API\n",
    "        response = genai.GenerativeModel(\"gemini-1.5-flash\",\n",
    "                                         system_instruction=\"You are an expert question maker and quizzer and need to parse some transcript chunks to generate the best questions possible\",\n",
    "                                         generation_config=config)\n",
    "        result = response.generate_content(prompt)\n",
    "        \n",
    "        # parsed the response object\n",
    "        dict_to_return = json.loads(result.parts[0].text)\n",
    "        return dict_to_return\n",
    "\n",
    "    except Exception as e:\n",
    "        print(f\"Error during API request: {e}\")\n",
    "        return \"Error generating question and options.\", [], \"\""
   ]
  },
  {
   "cell_type": "code",
   "execution_count": 11,
   "metadata": {},
   "outputs": [],
   "source": [
    "import re\n",
    "def extract_video_id(youtube_url):\n",
    "    pattern = r'(?:https?://)?(?:www\\.)?(?:youtube\\.com/(?:v|embed|watch\\?v=)|youtu\\.be/)([\\w-]{11})'\n",
    "    match = re.search(pattern, youtube_url)\n",
    "    if match:\n",
    "        return match.group(1)\n",
    "    else:\n",
    "        print(\"Invalid YouTube URL or no video ID found.\")\n",
    "        return None\n",
    "youtube_url=\"https://www.youtube.com/watch?v=ktP8QsPzKfs\"\n",
    "video_id=extract_video_id(youtube_url)"
   ]
  },
  {
   "cell_type": "code",
   "execution_count": 12,
   "metadata": {},
   "outputs": [
    {
     "name": "stdout",
     "output_type": "stream",
     "text": [
      "Generating 9 questions from the transcript...\n"
     ]
    },
    {
     "ename": "MemoryError",
     "evalue": "",
     "output_type": "error",
     "traceback": [
      "\u001b[1;31m---------------------------------------------------------------------------\u001b[0m",
      "\u001b[1;31mMemoryError\u001b[0m                               Traceback (most recent call last)",
      "Cell \u001b[1;32mIn[12], line 6\u001b[0m\n\u001b[0;32m      1\u001b[0m \u001b[38;5;66;03m# Sample text transcript\u001b[39;00m\n\u001b[0;32m      2\u001b[0m \u001b[38;5;66;03m# video_id = \"eD16g9RRKtw\"\u001b[39;00m\n\u001b[0;32m      3\u001b[0m \n\u001b[0;32m      4\u001b[0m \u001b[38;5;66;03m# Split text into chunks\u001b[39;00m\n\u001b[1;32m----> 6\u001b[0m chunks \u001b[38;5;241m=\u001b[39m \u001b[43msplit_text_into_chunks\u001b[49m\u001b[43m(\u001b[49m\u001b[43mvideo_id\u001b[49m\u001b[43m)\u001b[49m\n\u001b[0;32m      7\u001b[0m questions_data \u001b[38;5;241m=\u001b[39m []\n\u001b[0;32m      9\u001b[0m \u001b[38;5;66;03m# Process each chunk\u001b[39;00m\n",
      "Cell \u001b[1;32mIn[2], line 47\u001b[0m, in \u001b[0;36msplit_text_into_chunks\u001b[1;34m(video_id)\u001b[0m\n\u001b[0;32m     45\u001b[0m     timestamp \u001b[38;5;241m=\u001b[39m prefix_sum[target_index][\u001b[38;5;241m1\u001b[39m]\n\u001b[0;32m     46\u001b[0m     chunk \u001b[38;5;241m=\u001b[39m \u001b[38;5;124m'\u001b[39m\u001b[38;5;124m \u001b[39m\u001b[38;5;124m'\u001b[39m\u001b[38;5;241m.\u001b[39mjoin(sentence \u001b[38;5;28;01mfor\u001b[39;00m _, _, sentence \u001b[38;5;129;01min\u001b[39;00m prefix_sum[:target_index])\n\u001b[1;32m---> 47\u001b[0m     \u001b[43mchunks\u001b[49m\u001b[38;5;241;43m.\u001b[39;49m\u001b[43mappend\u001b[49m\u001b[43m(\u001b[49m\u001b[43m(\u001b[49m\u001b[43mchunk\u001b[49m\u001b[43m,\u001b[49m\u001b[43m \u001b[49m\u001b[43mtimestamp\u001b[49m\u001b[43m)\u001b[49m\u001b[43m)\u001b[49m\n\u001b[0;32m     48\u001b[0m     prefix_sum \u001b[38;5;241m=\u001b[39m prefix_sum[target_index:]\n\u001b[0;32m     49\u001b[0m \u001b[38;5;28;01mreturn\u001b[39;00m chunks\n",
      "\u001b[1;31mMemoryError\u001b[0m: "
     ]
    },
    {
     "ename": "",
     "evalue": "",
     "output_type": "error",
     "traceback": [
      "\u001b[1;31mThe Kernel crashed while executing code in the current cell or a previous cell. \n",
      "\u001b[1;31mPlease review the code in the cell(s) to identify a possible cause of the failure. \n",
      "\u001b[1;31mClick <a href='https://aka.ms/vscodeJupyterKernelCrash'>here</a> for more info. \n",
      "\u001b[1;31mView Jupyter <a href='command:jupyter.viewOutput'>log</a> for further details."
     ]
    }
   ],
   "source": [
    "# Sample text transcript\n",
    "# video_id = \"eD16g9RRKtw\"\n",
    "\n",
    "# Split text into chunks\n",
    "\n",
    "chunks = split_text_into_chunks(video_id)\n",
    "questions_data = []\n",
    "\n",
    "# Process each chunk\n",
    "for i, (chunk, timestamp) in enumerate(chunks):\n",
    "    print(f\"Chunk {i + 1}:\\n{chunk}\\n\")\n",
    "    question_data = generate_questions_and_options(chunk)\n",
    "\n",
    "    # wrote the index of the chunk as well before appending\n",
    "    question_data[\"timestamp\"] = timestamp\n",
    "    questions_data.append(question_data)\n",
    "    # break\n",
    "# Save to JSON file\n",
    "with open(\"questions_data.json\", \"w\") as json_file:\n",
    "    json.dump(questions_data, json_file, indent=4)\n",
    "\n",
    "print(\"Collected data has been saved to questions_data.json\")"
   ]
  }
 ],
 "metadata": {
  "kernelspec": {
   "display_name": "Python 3",
   "language": "python",
   "name": "python3"
  },
  "language_info": {
   "codemirror_mode": {
    "name": "ipython",
    "version": 3
   },
   "file_extension": ".py",
   "mimetype": "text/x-python",
   "name": "python",
   "nbconvert_exporter": "python",
   "pygments_lexer": "ipython3",
   "version": "3.10.11"
  }
 },
 "nbformat": 4,
 "nbformat_minor": 2
}
